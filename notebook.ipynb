{
 "cells": [
  {
   "cell_type": "code",
   "execution_count": 2,
   "metadata": {},
   "outputs": [
    {
     "name": "stdout",
     "output_type": "stream",
     "text": [
      "Soju is a traditional Korean distilled alcoholic beverage. The recipe for soju typically involves the following ingredients and steps:\n",
      "\n",
      "Ingredients:\n",
      "- 1 kg of rice (short-grain rice is commonly used)\n",
      "- 1 kg of nuruk (a Korean fermentation starter)\n",
      "- 10 liters of water\n",
      "- 400-500 grams of sugar (optional, for sweetness)\n",
      "- Distilled water (for dilution)\n",
      "\n",
      "Steps:\n",
      "1. Rinse the rice thoroughly to remove any impurities.\n",
      "2. Cook the rice in a rice cooker or on the stovetop until it is fully cooked and slightly sticky.\n",
      "3. Allow the cooked rice to cool down to room temperature.\n",
      "4. In a large container or pot, mix the cooled rice with nuruk. Make sure to break up any clumps of nuruk and mix it well with the rice.\n",
      "5. Add water to the rice and nuruk mixture, stirring it gently to combine everything.\n",
      "6. Cover the container or pot with a clean cloth or plastic wrap and let it ferment for about 7-10 days at room temperature. During this time, the mixture will undergo fermentation.\n",
      "7. After the fermentation period, strain the mixture through a cheesecloth or fine mesh strainer to separate the liquid from the solids.\n",
      "8. The strained liquid is the raw soju. At this point, you can add sugar if desired, stirring until it dissolves completely.\n",
      "9. To reduce the alcohol content and make it more drinkable, dilute the raw soju with distilled water. The ratio of soju to water can vary depending on personal preference, but a common ratio is 1 part soju to 2 parts water.\n",
      "10. Once diluted, transfer the soju to clean bottles or jars for storage.\n",
      "11. Allow the soju to age for a few weeks or longer in a cool, dark place. This aging process helps to mellow the flavors and improve the overall taste.\n",
      "12. After aging, the soju is ready to be enjoyed. Serve it chilled or at room temperature.\n",
      "\n",
      "Please note that this recipe is a simplified version, and traditional soju-making techniques can vary. Additionally, the alcohol content of homemade soju may vary, so it's important to consume it responsibly. Here is a basic recipe for making bread:\n",
      "\n",
      "Ingredients:\n",
      "- 3 cups all-purpose flour\n",
      "- 1 tablespoon active dry yeast\n",
      "- 1 tablespoon sugar\n",
      "- 1 teaspoon salt\n",
      "- 1 ¼ cups warm water\n",
      "- 2 tablespoons vegetable oil\n",
      "\n",
      "Instructions:\n",
      "1. In a large mixing bowl, combine the warm water, sugar, and yeast. Let it sit for about 5 minutes until the yeast becomes foamy.\n",
      "\n",
      "2. Add the flour, salt, and vegetable oil to the yeast mixture. Stir until a dough forms.\n",
      "\n",
      "3. Transfer the dough onto a floured surface and knead it for about 5-10 minutes until it becomes smooth and elastic. You can also use a stand mixer with a dough hook attachment for this step.\n",
      "\n",
      "4. Place the dough in a greased bowl and cover it with a clean kitchen towel. Allow it to rise in a warm place for about 1-2 hours or until it doubles in size.\n",
      "\n",
      "5. Once the dough has risen, punch it down to release any air bubbles. Transfer it to a lightly floured surface and shape it into a loaf or desired shape.\n",
      "\n",
      "6. Place the shaped dough onto a greased or parchment-lined baking sheet. Cover it with a kitchen towel and let it rise for another 30-45 minutes.\n",
      "\n",
      "7. Preheat the oven to 375°F (190°C). Optionally, you can brush the top of the bread with milk or beaten egg for a shiny crust.\n",
      "\n",
      "8. Bake the bread in the preheated oven for about 25-30 minutes or until it turns golden brown and sounds hollow when tapped on the bottom.\n",
      "\n",
      "9. Remove the bread from the oven and let it cool on a wire rack before slicing and serving.\n",
      "\n",
      "Note: This is a basic bread recipe, and you can customize it by adding ingredients like herbs, cheese, or seeds to enhance the flavor. Additionally, bread-making techniques may vary, so feel free to experiment and adjust the recipe according to your preferences. \n",
      "\n",
      "Tokens Used: 890\n",
      "\tPrompt Tokens: 29\n",
      "\tCompletion Tokens: 861\n",
      "Successful Requests: 2\n",
      "Total Cost (USD): $0.0017655000000000001\n"
     ]
    }
   ],
   "source": [
    "from langchain.chat_models import ChatOpenAI\n",
    "from langchain.prompts.few_shot import FewShotChatMessagePromptTemplate, FewShotPromptTemplate\n",
    "from langchain.callbacks import StreamingStdOutCallbackHandler, get_openai_callback\n",
    "from langchain.prompts import PromptTemplate,ChatPromptTemplate\n",
    "from langchain.prompts.example_selector import LengthBasedExampleSelector\n",
    "from langchain.prompts.example_selector.base import BaseExampleSelector\n",
    "from langchain.prompts import load_prompt\n",
    "from langchain.prompts.pipeline import PipelinePromptTemplate\n",
    "from langchain.globals import set_llm_cache, set_debug\n",
    "from langchain.cache import InMemoryCache, SQLiteCache\n",
    "from langchain.llms.openai import OpenAI\n",
    "from langchain.llms.loading import load_llm\n",
    "\n",
    "\n",
    "chat = OpenAI(\n",
    "    temperature=0.1, \n",
    "    max_tokens=450,\n",
    "    model=\"gpt-3.5-turbo\"\n",
    ")\n",
    "\n",
    "chat.save(\"model.json\")\n"
   ]
  },
  {
   "cell_type": "code",
   "execution_count": 27,
   "metadata": {},
   "outputs": [
    {
     "data": {
      "text/plain": [
       "\"To make Italian pasta, you will need the following ingredients:\\n\\n- 2 cups of all-purpose flour\\n- 2 large eggs\\n- 1/2 teaspoon of salt\\n- Water (if needed)\\n\\nHere's a step-by-step guide to making Italian pasta:\\n\\n1. On a clean surface or in a large mixing bowl, pour the flour and create a well in the center.\\n\\n2. Crack the eggs into the well and add the salt.\\n\\n3. Using a fork or your fingers, gradually mix the eggs and salt into the flour, incorporating a little at a time until a dough starts to form.\\n\\n4. Once the dough starts to come together, knead it with your hands for about 5-10 minutes until it becomes smooth and elastic. If the dough feels too dry, you can add a little water, teaspoon by teaspoon, until it reaches the desired consistency. If it's too sticky, add a little more flour.\\n\\n5. Once the dough is ready, cover it with a clean kitchen towel or plastic wrap and let it rest for about 30 minutes to an hour. This allows the gluten to relax and makes the dough easier to roll out.\\n\\n6. After resting, divide the dough into smaller portions. Take one portion and flatten it with your hands.\\n\\n7. Using a rolling pin or a pasta machine, roll out the dough into a thin sheet. If using a pasta machine, start with the widest setting and gradually decrease the thickness until you reach the desired thickness. If rolling by hand, make sure to dust the surface and the dough with flour to prevent sticking.\\n\\n8. Once the dough is rolled out, you can cut it into your desired pasta shape. For example, you can make fettuccine, tagliatelle, or lasagna sheets. You can use a sharp knife or a pasta cutter to achieve the desired shape.\\n\\n9. As you cut the pasta, dust it with flour to prevent sticking. You can also hang the pasta on a drying rack or lay it flat on a clean surface until ready to cook.\\n\\n10. To cook the pasta, bring a large pot of salted water to a boil. Add the pasta and cook for a few minutes until al dente, which means it should still have a slight bite to it.\\n\\n11. Drain the cooked pasta and serve it with your favorite sauce, such as marinara, carbonara, or pesto.\\n\\nEnjoy your homemade Italian pasta!\""
      ]
     },
     "execution_count": 27,
     "metadata": {},
     "output_type": "execute_result"
    }
   ],
   "source": [
    "chat.predict(\"How do you make italian pasta?\")"
   ]
  }
 ],
 "metadata": {
  "kernelspec": {
   "display_name": "env",
   "language": "python",
   "name": "python3"
  },
  "language_info": {
   "codemirror_mode": {
    "name": "ipython",
    "version": 3
   },
   "file_extension": ".py",
   "mimetype": "text/x-python",
   "name": "python",
   "nbconvert_exporter": "python",
   "pygments_lexer": "ipython3",
   "version": "3.10.2"
  }
 },
 "nbformat": 4,
 "nbformat_minor": 2
}
